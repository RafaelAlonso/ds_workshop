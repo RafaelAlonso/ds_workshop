{
 "cells": [
  {
   "cell_type": "markdown",
   "metadata": {},
   "source": [
    "# Let's talk about Web Scraping"
   ]
  },
  {
   "cell_type": "code",
   "execution_count": null,
   "metadata": {},
   "outputs": [],
   "source": [
    "import requests                 # needed to make a request to the server\n",
    "from bs4 import BeautifulSoup   # needed to read the soup that is HTML\n",
    "\n",
    "url = \"http://books.toscrape.com/index.html\"  # the url we're going to scrape\n",
    "response = requests.get(url)                  # the request to the server\n",
    "html = response.content                       # the HTML we get from the request\n",
    "parsed = BeautifulSoup(html, 'html.parser')   # the BeautifulSoup done with the HTML"
   ]
  },
  {
   "cell_type": "markdown",
   "metadata": {},
   "source": [
    "## Let's scrape some information!!"
   ]
  },
  {
   "cell_type": "markdown",
   "metadata": {},
   "source": [
    "### Get an element by it's tag name"
   ]
  },
  {
   "cell_type": "markdown",
   "metadata": {},
   "source": [
    "Let's get the text **inside** the <code>title</code> tag \n",
    "(and remove the whitespaces surrounding it!)"
   ]
  },
  {
   "cell_type": "code",
   "execution_count": null,
   "metadata": {
    "scrolled": true
   },
   "outputs": [],
   "source": [
    "parsed.title.text.strip()"
   ]
  },
  {
   "cell_type": "markdown",
   "metadata": {},
   "source": [
    "What about getting an information inside an attribute?"
   ]
  },
  {
   "cell_type": "code",
   "execution_count": null,
   "metadata": {},
   "outputs": [],
   "source": [
    "parsed.h3.a['title']"
   ]
  },
  {
   "cell_type": "markdown",
   "metadata": {},
   "source": [
    "### Get an element by something other than it's tag name"
   ]
  },
  {
   "cell_type": "markdown",
   "metadata": {},
   "source": [
    "We can say what is the class of the element by using the <code>find</code> method"
   ]
  },
  {
   "cell_type": "code",
   "execution_count": null,
   "metadata": {},
   "outputs": [],
   "source": [
    "parsed.find(\"article\", class_=\"product_pod\")"
   ]
  },
  {
   "cell_type": "markdown",
   "metadata": {},
   "source": [
    "From the result, we can continue searching"
   ]
  },
  {
   "cell_type": "code",
   "execution_count": null,
   "metadata": {},
   "outputs": [],
   "source": [
    "parsed.find(\"article\", class_=\"product_pod\").h3.a['title']"
   ]
  },
  {
   "cell_type": "markdown",
   "metadata": {},
   "source": [
    "### Getting multiple elements"
   ]
  },
  {
   "cell_type": "markdown",
   "metadata": {},
   "source": [
    "Quick review on <code> for ... in ... : </code>"
   ]
  },
  {
   "cell_type": "code",
   "execution_count": null,
   "metadata": {},
   "outputs": [],
   "source": [
    "names = ['Rodrigo', 'Paola', 'Vitor', 'Arthur', 'Gabriela', 'Annelise']\n",
    "\n",
    "for name in names:\n",
    "    # this code will run for EACH name inside the names list\n",
    "    print ('Hello ' + name)"
   ]
  },
  {
   "cell_type": "markdown",
   "metadata": {},
   "source": [
    "If we want to get all the elements with the same tag name and/or class, we can use the\n",
    "<code>find_all</code> method and do some code for **each** element (using the loop <code>for ... in ...:</code>)"
   ]
  },
  {
   "cell_type": "code",
   "execution_count": null,
   "metadata": {},
   "outputs": [],
   "source": [
    "all_articles = parsed.find_all('article', class_=\"product_pod\")\n",
    "\n",
    "# we want to get the book's title from EACH article\n",
    "for article in all_articles:\n",
    "    print(article.h3.a['title'])"
   ]
  },
  {
   "cell_type": "markdown",
   "metadata": {},
   "source": [
    "Can we get the price of that book? (as a float, of course =D)"
   ]
  },
  {
   "cell_type": "code",
   "execution_count": null,
   "metadata": {},
   "outputs": [],
   "source": [
    "for article in all_articles:\n",
    "    price = article.find('p', class_='price_color')\n",
    "    price = float(price.text.lstrip('£')) # this will remove the £ sign from the left of the text\n",
    "    print(price)"
   ]
  },
  {
   "cell_type": "markdown",
   "metadata": {},
   "source": [
    "**Hard!** What if we want to store both the name AND the price for EVERY book? Quick tip:\n",
    "\n",
    "- **Lists `[]`** are good to store similiar elements and/or when the **position matters**\n",
    "- **Dictionaries `{}`** are good to store multiple infos about one element and/or to **label each information**"
   ]
  },
  {
   "cell_type": "code",
   "execution_count": null,
   "metadata": {},
   "outputs": [],
   "source": [
    "all_books = []\n",
    "\n",
    "for article in all_articles:\n",
    "    title = article.h3.a['title']\n",
    "    price = article.find('p', class_='price_color')\n",
    "    price = float(price.text.lstrip('£'))\n",
    "    book = {'book_title': title, 'book_price': price}\n",
    "    all_books.append(book)\n",
    "    \n",
    "print(all_books)"
   ]
  },
  {
   "cell_type": "markdown",
   "metadata": {},
   "source": [
    "We can also use [CSS Selectors](https://www.freecodecamp.org/news/css-selectors-cheat-sheet/) in order to find some elements in our HTML using the `select` method"
   ]
  },
  {
   "cell_type": "code",
   "execution_count": null,
   "metadata": {},
   "outputs": [],
   "source": [
    "all_articles_two = parsed.select('.product_pod')\n",
    "\n",
    "for article in all_articles_two:\n",
    "    title = article.h3.a['title']\n",
    "    price = article.find('p', class_='price_color')\n",
    "    price = float(price.text.lstrip('£'))\n",
    "    print(title)\n",
    "    print(price)\n",
    "    print('\\n')"
   ]
  }
 ],
 "metadata": {
  "kernelspec": {
   "display_name": "Python 3",
   "language": "python",
   "name": "python3"
  },
  "language_info": {
   "codemirror_mode": {
    "name": "ipython",
    "version": 3
   },
   "file_extension": ".py",
   "mimetype": "text/x-python",
   "name": "python",
   "nbconvert_exporter": "python",
   "pygments_lexer": "ipython3",
   "version": "3.7.7"
  }
 },
 "nbformat": 4,
 "nbformat_minor": 4
}
